{
 "cells": [
  {
   "cell_type": "markdown",
   "metadata": {},
   "source": [
    "# AZ Vibration Review "
   ]
  },
  {
   "cell_type": "code",
   "execution_count": null,
   "metadata": {},
   "outputs": [],
   "source": [
    "import math\n",
    "import numpy as np\n",
    "\n",
    "from nptdms import tdms\n",
    "\n",
    "import matplotlib.pyplot as plt\n",
    "\n",
    "from acoustics import Signal\n",
    "from acoustics.standards.iec_61672_1_2013 import (\n",
    "    NOMINAL_OCTAVE_CENTER_FREQUENCIES,\n",
    "    NOMINAL_THIRD_OCTAVE_CENTER_FREQUENCIES)\n",
    "\n",
    "import scipy.fftpack\n",
    "from scipy import integrate\n",
    "import scipy.signal as signal\n",
    "\n",
    "import scripts.sig as sig\n",
    "from scripts.vib_files import getTdmsFilesInPath\n",
    "\n",
    "%matplotlib inline"
   ]
  },
  {
   "cell_type": "markdown",
   "metadata": {},
   "source": [
    "### Path to TDMS file and Appropriate Limits:"
   ]
  },
  {
   "cell_type": "code",
   "execution_count": null,
   "metadata": {},
   "outputs": [],
   "source": [
    "#Find all vibration files in this path\n",
    "mypath = './TDMS/'\n",
    "result = getTdmsFilesInPath(mypath)\n",
    "print ('{0} files found\\n'.format(len(result)))"
   ]
  },
  {
   "cell_type": "code",
   "execution_count": null,
   "metadata": {},
   "outputs": [],
   "source": [
    "[print(filename) for filename in result]\n",
    "print()"
   ]
  },
  {
   "cell_type": "code",
   "execution_count": null,
   "metadata": {},
   "outputs": [],
   "source": [
    "#fn = <META_FILENAME>  #uncomment to get a scriptable choice\n",
    "fn = result[2]\n",
    "print(fn)"
   ]
  },
  {
   "cell_type": "code",
   "execution_count": null,
   "metadata": {
    "scrolled": true
   },
   "outputs": [],
   "source": [
    "tdmspath = fn\n",
    "#print(getlimitfrompath(fn))\n",
    "\n",
    "#lim = getlimitfrompath(fn)\n",
    "tdfile = tdms.TdmsFile(tdmspath)\n",
    "\n",
    "#df = tdfile.as_dataframe()\n",
    "#df.plot(figsize=(15,24), color=('r'), subplots=True );"
   ]
  },
  {
   "cell_type": "code",
   "execution_count": null,
   "metadata": {},
   "outputs": [],
   "source": [
    "tdfile.object().properties"
   ]
  },
  {
   "cell_type": "code",
   "execution_count": null,
   "metadata": {},
   "outputs": [],
   "source": [
    "for g in tdfile.groups():\n",
    "    print(g)\n",
    "    print(tdfile.object(g).properties)\n",
    "    print('******************************************')\n",
    "    for c in tdfile.group_channels(g):\n",
    "        print(c.properties)\n",
    "    print('------------------------------------------')"
   ]
  },
  {
   "cell_type": "markdown",
   "metadata": {},
   "source": [
    "### Plot overall Run"
   ]
  },
  {
   "cell_type": "code",
   "execution_count": null,
   "metadata": {},
   "outputs": [],
   "source": [
    "win = np.hanning(8192)\n",
    "\n",
    "class Axis():\n",
    "    pass\n",
    "\n",
    "axis = Axis()\n",
    "axis.Name = []\n",
    "axis.f = []\n",
    "axis.Pxx = []\n",
    "axis.dBPxx = []\n",
    "\n",
    "for channel in tdfile.group_channels('Vibration'):\n",
    "    #Get Metadata from tdms channel\n",
    "    chName = (channel.properties['NI_ChannelName'])\n",
    "    Sensitivity = float(channel.properties['Sensor Sensitivity (mV/EU)'])\n",
    "    data = (channel.data * 1000 / Sensitivity)\n",
    "    axis.Name.append(chName)\n",
    "   \n",
    "    #generate PSD using Welch's method\n",
    "    f, Pxx_spec = signal.welch(data, fs=8533, window='hann', nfft=8192, detrend=None, scaling='spectrum')\n",
    "    axis.f.append(f)\n",
    "    axis.Pxx.append(Pxx_spec)\n",
    "    axis.dBPxx.append(10*np.log10(Pxx_spec))\n",
    "    \n",
    "\n",
    "#PLOT LINEAR PSD    \n",
    "fig, ax = plt.subplots()\n",
    "fig.set_size_inches(20,10)\n",
    "\n",
    "for i in range(0, 3):\n",
    "    ax.plot(axis.f[i], axis.Pxx[i], label=axis.Name[i])\n",
    "    \n",
    "    #Area under g^2 / Hz Pxx curve is g^2 RMS, f[i] is frequency in Hz\n",
    "    #Using trapezoid rule to numerically integrate area under curve, square root, and round to 2 places for g RMS data\n",
    "    print(f'{axis.Name[i]}: {round(math.sqrt(integrate.trapz(axis.Pxx[i], x=axis.f[i])),2)} g RMS; 4kHz bandpass')\n",
    "\n",
    "plt.xlabel('frequency [Hz]')\n",
    "plt.ylabel('Linear spectrum [g^2/Hz]')\n",
    "#plt.xlim(xmin=16)\n",
    "plt.legend()\n",
    "plt.show()\n",
    "\n",
    "\n",
    "#PLOT LOG(x) PSD\n",
    "fig, ax = plt.subplots()\n",
    "fig.set_size_inches(20,10)\n",
    "\n",
    "for i in range(0, 3):\n",
    "    ax.semilogx(axis.f[i], axis.Pxx[i], label=axis.Name[i])\n",
    "plt.xlabel('log 10 (frequency [Hz])')\n",
    "plt.ylabel('Linear spectrum [g^2/Hz]')\n",
    "plt.legend()\n",
    "plt.show()"
   ]
  },
  {
   "cell_type": "code",
   "execution_count": null,
   "metadata": {},
   "outputs": [],
   "source": [
    "for channel in tdfile.group_channels('Vibration'):\n",
    "    chName = (channel.properties['NI_ChannelName'])\n",
    "    DOCSensitivity = float(channel.properties['Sensor Sensitivity (mV/EU)'])\n",
    "    data = (channel.data * 1000 / DOCSensitivity)\n",
    "    \n",
    "    fig, ax = plt.subplots()\n",
    "    fig.set_size_inches(20,10)\n",
    "    \n",
    "    ax.set_title(chName + ' Spectrogram')\n",
    "    ax.set_xlabel('time (seconds)')\n",
    "    ax.set_ylabel('frequency (Hz)')\n",
    "    \n",
    "    NFFT = 8192\n",
    "    cmap = plt.get_cmap('magma')\n",
    "    vmin = 10*np.log10(np.max(data)) - 80 #clamp to -80 dB\n",
    "    cmap.set_under(color='k', alpha=None)\n",
    "    \n",
    "    pxx, freq, t, cax = plt.specgram(data, NFFT=NFFT, Fs=8533.3333, Fc=None, \n",
    "                                     detrend=None, window=np.hanning(8192), mode='psd',  \n",
    "                                     noverlap=NFFT*0.75, pad_to=None, cmap=cmap, vmin=vmin, scale='dB')\n",
    "    fig.colorbar(cax).set_label('Intensity [dB(g^2/Hz)]')\n",
    "    \n",
    "    plt.show()\n",
    "    rmsData = math.sqrt(sum(data*data)/len(data))"
   ]
  }
 ],
 "metadata": {
  "kernelspec": {
   "display_name": "Python 3",
   "language": "python",
   "name": "python3"
  },
  "language_info": {
   "codemirror_mode": {
    "name": "ipython",
    "version": 3
   },
   "file_extension": ".py",
   "mimetype": "text/x-python",
   "name": "python",
   "nbconvert_exporter": "python",
   "pygments_lexer": "ipython3",
   "version": "3.6.6"
  }
 },
 "nbformat": 4,
 "nbformat_minor": 2
}
